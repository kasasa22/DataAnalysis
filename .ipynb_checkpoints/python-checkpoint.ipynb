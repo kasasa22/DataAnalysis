{
 "cells": [
  {
   "cell_type": "code",
   "execution_count": 3,
   "id": "35f93905-9169-4918-85c3-6f8486d29ba4",
   "metadata": {},
   "outputs": [
    {
     "name": "stdout",
     "output_type": "stream",
     "text": [
      "On branch master\n",
      "Your branch is up to date with 'origin/master'.\n",
      "\n",
      "Untracked files:\n",
      "  (use \"git add <file>...\" to include in what will be committed)\n",
      "\t.ipynb_checkpoints/\n",
      "\tUntitled.ipynb\n",
      "\tdataVenv/trial.py\n",
      "\n",
      "nothing added to commit but untracked files present (use \"git add\" to track)\n"
     ]
    }
   ],
   "source": [
    "!git status\n"
   ]
  },
  {
   "cell_type": "markdown",
   "id": "1598bd56",
   "metadata": {},
   "source": []
  },
  {
   "cell_type": "code",
   "execution_count": 2,
   "id": "c5a93507-64c6-4630-84f1-0ba7d9276413",
   "metadata": {},
   "outputs": [
    {
     "name": "stdout",
     "output_type": "stream",
     "text": [
      "On branch master\n",
      "Your branch is up to date with 'origin/master'.\n",
      "\n",
      "Untracked files:\n",
      "  (use \"git add <file>...\" to include in what will be committed)\n",
      "\t.ipynb_checkpoints/\n",
      "\tUntitled.ipynb\n",
      "\tdataVenv/trial.py\n",
      "\n",
      "nothing added to commit but untracked files present (use \"git add\" to track)\n"
     ]
    }
   ],
   "source": [
    "!git status\n"
   ]
  },
  {
   "cell_type": "code",
   "execution_count": 4,
   "id": "c83f976b-564a-4d60-9c7f-ebba89f878c9",
   "metadata": {},
   "outputs": [
    {
     "name": "stderr",
     "output_type": "stream",
     "text": [
      "warning: in the working copy of '.ipynb_checkpoints/Untitled-checkpoint.ipynb', LF will be replaced by CRLF the next time Git touches it\n",
      "warning: in the working copy of 'Untitled.ipynb', LF will be replaced by CRLF the next time Git touches it\n"
     ]
    }
   ],
   "source": [
    "!git add .\n"
   ]
  },
  {
   "cell_type": "code",
   "execution_count": 5,
   "id": "c3ec3894-fd6d-4ed2-82a1-4072ec9fdc54",
   "metadata": {},
   "outputs": [
    {
     "name": "stdout",
     "output_type": "stream",
     "text": [
      "[master 8f5c7ec] this\n",
      " 3 files changed, 96 insertions(+)\n",
      " create mode 100644 .ipynb_checkpoints/Untitled-checkpoint.ipynb\n",
      " create mode 100644 Untitled.ipynb\n",
      " create mode 100644 dataVenv/trial.py\n"
     ]
    }
   ],
   "source": [
    "!git commit -m \"this\""
   ]
  },
  {
   "cell_type": "code",
   "execution_count": 6,
   "id": "6b6a44ea-4339-45d1-b3c9-50d4d3e3d5ee",
   "metadata": {},
   "outputs": [
    {
     "name": "stderr",
     "output_type": "stream",
     "text": [
      "To https://github.com/kasasa22/DataAnalysis.git\n",
      "   2c709f9..8f5c7ec  master -> master\n"
     ]
    }
   ],
   "source": [
    "!git push\n"
   ]
  },
  {
   "cell_type": "code",
   "execution_count": 1,
   "id": "c55dadc5-f373-488e-abb0-67b171a6ca5a",
   "metadata": {},
   "outputs": [],
   "source": [
    "import pandas as pd"
   ]
  },
  {
   "cell_type": "code",
   "execution_count": 2,
   "id": "0bfd5821-a0ea-47a7-b567-ee6020582ac5",
   "metadata": {},
   "outputs": [
    {
     "data": {
      "text/plain": [
       "(4, 5, 6)"
      ]
     },
     "execution_count": 2,
     "metadata": {},
     "output_type": "execute_result"
    }
   ],
   "source": [
    "tup = (4,5,6)\n",
    "tup\n"
   ]
  },
  {
   "cell_type": "code",
   "execution_count": 7,
   "id": "afdde36b-4dbf-4809-82b5-631735695f70",
   "metadata": {},
   "outputs": [
    {
     "data": {
      "text/plain": [
       "(4, 0, 2)"
      ]
     },
     "execution_count": 7,
     "metadata": {},
     "output_type": "execute_result"
    }
   ],
   "source": [
    "#DATA STRUCTURES\n",
    "#Tuples\n",
    "tuple([4,0,2])"
   ]
  },
  {
   "cell_type": "code",
   "execution_count": 20,
   "id": "9bc9e351-55df-4e80-be01-6f99a00ec080",
   "metadata": {},
   "outputs": [
    {
     "data": {
      "text/plain": [
       "4"
      ]
     },
     "execution_count": 20,
     "metadata": {},
     "output_type": "execute_result"
    }
   ],
   "source": [
    "#nested tuple\n",
    "tup=((4,3,4),(2,3,4))\n",
    "tup[0][2]\n",
    "\n"
   ]
  },
  {
   "cell_type": "code",
   "execution_count": 24,
   "id": "8cbd9dff-90c0-4788-8b3d-69de4b2a063b",
   "metadata": {},
   "outputs": [
    {
     "data": {
      "text/plain": [
       "False"
      ]
     },
     "execution_count": 24,
     "metadata": {},
     "output_type": "execute_result"
    }
   ],
   "source": [
    "tup= tuple(['kasasa',[1,2],False,'Trevor'])\n",
    "tup[2]"
   ]
  },
  {
   "cell_type": "code",
   "execution_count": 25,
   "id": "9e25a9a6-e3c6-43fc-aa99-1c9a4269c71b",
   "metadata": {},
   "outputs": [
    {
     "data": {
      "text/plain": [
       "1"
      ]
     },
     "execution_count": 25,
     "metadata": {},
     "output_type": "execute_result"
    }
   ],
   "source": [
    "tup[1][0]"
   ]
  },
  {
   "cell_type": "code",
   "execution_count": 26,
   "id": "56319087-08a5-4d37-87f9-927ed0dfa726",
   "metadata": {},
   "outputs": [
    {
     "ename": "TypeError",
     "evalue": "'tuple' object does not support item assignment",
     "output_type": "error",
     "traceback": [
      "\u001b[1;31m---------------------------------------------------------------------------\u001b[0m",
      "\u001b[1;31mTypeError\u001b[0m                                 Traceback (most recent call last)",
      "Cell \u001b[1;32mIn[26], line 1\u001b[0m\n\u001b[1;32m----> 1\u001b[0m \u001b[43mtup\u001b[49m\u001b[43m[\u001b[49m\u001b[38;5;241;43m2\u001b[39;49m\u001b[43m]\u001b[49m \u001b[38;5;241m=\u001b[39m\u001b[38;5;28;01mTrue\u001b[39;00m\n",
      "\u001b[1;31mTypeError\u001b[0m: 'tuple' object does not support item assignment"
     ]
    }
   ],
   "source": [
    "tup[2] =True"
   ]
  },
  {
   "cell_type": "code",
   "execution_count": 27,
   "id": "94adbbaa-6a42-4bdb-a29f-2a74de83e29f",
   "metadata": {},
   "outputs": [],
   "source": [
    "tup[1][1]=3"
   ]
  },
  {
   "cell_type": "code",
   "execution_count": 28,
   "id": "b3a7e07d-df0d-45dd-839e-6b745bb0add5",
   "metadata": {},
   "outputs": [
    {
     "data": {
      "text/plain": [
       "('kasasa', [1, 3], False, 'Trevor')"
      ]
     },
     "execution_count": 28,
     "metadata": {},
     "output_type": "execute_result"
    }
   ],
   "source": [
    "tup"
   ]
  },
  {
   "cell_type": "code",
   "execution_count": 29,
   "id": "f297df65-3f86-4521-8df4-a552cd38e1cf",
   "metadata": {},
   "outputs": [
    {
     "data": {
      "text/plain": [
       "['This', 'is', 'Africa']"
      ]
     },
     "execution_count": 29,
     "metadata": {},
     "output_type": "execute_result"
    }
   ],
   "source": [
    "#LIST\n",
    "ls =[\"This\",\"is\",\"Africa\"]\n",
    "ls"
   ]
  },
  {
   "cell_type": "code",
   "execution_count": 30,
   "id": "07106e09-23be-4ad2-862c-cebf59cca7ce",
   "metadata": {},
   "outputs": [],
   "source": [
    "ls[2]=\"USA\""
   ]
  },
  {
   "cell_type": "code",
   "execution_count": 32,
   "id": "48402d9d-ef66-4e15-98a2-b3a36990703b",
   "metadata": {},
   "outputs": [
    {
     "data": {
      "text/plain": [
       "['This', 'is', 'USA']"
      ]
     },
     "execution_count": 32,
     "metadata": {},
     "output_type": "execute_result"
    }
   ],
   "source": [
    "ls"
   ]
  },
  {
   "cell_type": "code",
   "execution_count": 34,
   "id": "ec05d6ee-0f15-46be-8600-3845bdb0b30d",
   "metadata": {},
   "outputs": [
    {
     "data": {
      "text/plain": [
       "2"
      ]
     },
     "execution_count": 34,
     "metadata": {},
     "output_type": "execute_result"
    }
   ],
   "source": [
    "ls.index(\"USA\")"
   ]
  },
  {
   "cell_type": "code",
   "execution_count": 37,
   "id": "01f85c5c-a089-486c-8778-49c5ec18a220",
   "metadata": {},
   "outputs": [
    {
     "data": {
      "text/plain": [
       "['This', 'is', 'USA']"
      ]
     },
     "execution_count": 37,
     "metadata": {},
     "output_type": "execute_result"
    }
   ],
   "source": [
    "ls1=list(ls)\n",
    "ls1"
   ]
  },
  {
   "cell_type": "code",
   "execution_count": 40,
   "id": "3aec5add-b5ac-4459-81bb-072ee9f345b1",
   "metadata": {},
   "outputs": [
    {
     "data": {
      "text/plain": [
       "{1: 'kasasa', '2': 'sarah', '3': 'trevor'}"
      ]
     },
     "execution_count": 40,
     "metadata": {},
     "output_type": "execute_result"
    }
   ],
   "source": [
    "d1={1:\"kasasa\",\"2\":\"sarah\",\"3\":\"trevor\"}\n",
    "d1"
   ]
  },
  {
   "cell_type": "code",
   "execution_count": 42,
   "id": "6477bec5-cc95-4e57-b54c-00ace30fa976",
   "metadata": {},
   "outputs": [
    {
     "data": {
      "text/plain": [
       "'kasasa'"
      ]
     },
     "execution_count": 42,
     "metadata": {},
     "output_type": "execute_result"
    }
   ],
   "source": [
    "d1[1]"
   ]
  },
  {
   "cell_type": "code",
   "execution_count": 45,
   "id": "81511940-923d-4338-aab3-a1d6a9d57b5a",
   "metadata": {},
   "outputs": [
    {
     "name": "stdout",
     "output_type": "stream",
     "text": [
      "{(1, 2, 3): ['this', 'that', 'those']}\n"
     ]
    }
   ],
   "source": [
    "d2 = {(1, 2, 3): ['this', 'that', 'those']}\n",
    "print(d2)\n"
   ]
  },
  {
   "cell_type": "code",
   "execution_count": 47,
   "id": "d26bab11-053d-44ce-aa8a-6dcffed103ec",
   "metadata": {},
   "outputs": [
    {
     "name": "stdout",
     "output_type": "stream",
     "text": [
      "{True: (1, 2, 3)}\n"
     ]
    }
   ],
   "source": [
    "d2 = {True:(1,2,3) }\n",
    "print(d2)\n"
   ]
  },
  {
   "cell_type": "code",
   "execution_count": 51,
   "id": "770adf7e-a85d-46d2-b731-4c46e6ce8a5c",
   "metadata": {},
   "outputs": [
    {
     "data": {
      "text/plain": [
       "{True: (1, 2, 3)}"
      ]
     },
     "execution_count": 51,
     "metadata": {},
     "output_type": "execute_result"
    }
   ],
   "source": [
    "d2"
   ]
  },
  {
   "cell_type": "code",
   "execution_count": 52,
   "id": "6ea885a9-204f-4f48-81b8-7052f74a9537",
   "metadata": {},
   "outputs": [
    {
     "data": {
      "text/plain": [
       "[1, 2, 3, 'trevor', 'cdd']"
      ]
     },
     "execution_count": 52,
     "metadata": {},
     "output_type": "execute_result"
    }
   ],
   "source": [
    "ls=[1,2,3,'trevor','cdd']\n",
    "ls"
   ]
  },
  {
   "cell_type": "code",
   "execution_count": 53,
   "id": "68d07a2a-2aed-48ce-8ac5-e99e96bf8c5f",
   "metadata": {},
   "outputs": [],
   "source": [
    "s='string'"
   ]
  },
  {
   "cell_type": "code",
   "execution_count": 54,
   "id": "dd67cf25-f704-4083-b302-8f7e6d90cf0b",
   "metadata": {},
   "outputs": [
    {
     "data": {
      "text/plain": [
       "'string'"
      ]
     },
     "execution_count": 54,
     "metadata": {},
     "output_type": "execute_result"
    }
   ],
   "source": [
    "s"
   ]
  },
  {
   "cell_type": "code",
   "execution_count": 55,
   "id": "e318c134-8eff-4657-97f7-849facbb6b8e",
   "metadata": {},
   "outputs": [
    {
     "data": {
      "text/plain": [
       "'s'"
      ]
     },
     "execution_count": 55,
     "metadata": {},
     "output_type": "execute_result"
    }
   ],
   "source": [
    "s[0]"
   ]
  },
  {
   "cell_type": "code",
   "execution_count": 57,
   "id": "696e8cbb-5b01-4abf-b326-5f14e8dacede",
   "metadata": {},
   "outputs": [
    {
     "ename": "TypeError",
     "evalue": "'str' object does not support item assignment",
     "output_type": "error",
     "traceback": [
      "\u001b[1;31m---------------------------------------------------------------------------\u001b[0m",
      "\u001b[1;31mTypeError\u001b[0m                                 Traceback (most recent call last)",
      "Cell \u001b[1;32mIn[57], line 1\u001b[0m\n\u001b[1;32m----> 1\u001b[0m \u001b[43ms\u001b[49m\u001b[43m[\u001b[49m\u001b[38;5;241;43m0\u001b[39;49m\u001b[43m]\u001b[49m\u001b[38;5;241m=\u001b[39m\u001b[38;5;124m'\u001b[39m\u001b[38;5;124mw\u001b[39m\u001b[38;5;124m'\u001b[39m\n",
      "\u001b[1;31mTypeError\u001b[0m: 'str' object does not support item assignment"
     ]
    }
   ],
   "source": [
    "s[0]='w'"
   ]
  },
  {
   "cell_type": "code",
   "execution_count": 60,
   "id": "799329fc-015a-4a40-b9b0-6511d1575616",
   "metadata": {},
   "outputs": [
    {
     "data": {
      "text/plain": [
       "{'a': 1, 'b': 2, 'c': 3}"
      ]
     },
     "execution_count": 60,
     "metadata": {},
     "output_type": "execute_result"
    }
   ],
   "source": [
    "key_list = ['a', 'b', 'c']\n",
    "value_list = [1, 2, 3]\n",
    "mapping={}\n",
    "for key, value in zip(key_list,value_list):\n",
    "    mapping[key] =value\n",
    "mapping"
   ]
  },
  {
   "cell_type": "code",
   "execution_count": 64,
   "id": "a35920d2-3f90-4139-99fa-65e3eb8b3d61",
   "metadata": {},
   "outputs": [
    {
     "data": {
      "text/plain": [
       "<zip at 0x219b59a60c0>"
      ]
     },
     "execution_count": 64,
     "metadata": {},
     "output_type": "execute_result"
    }
   ],
   "source": [
    "tuples=zip(range(10), reversed(range(10)))\n",
    "tuples"
   ]
  },
  {
   "cell_type": "code",
   "execution_count": 65,
   "id": "00cf3ec6-60f9-47e1-a394-fcfc73c5a5ae",
   "metadata": {},
   "outputs": [],
   "source": [
    "mapping = dict(tuples)"
   ]
  },
  {
   "cell_type": "code",
   "execution_count": 66,
   "id": "238a56ad-ee1a-4ca3-811b-e98ddfa7d21f",
   "metadata": {},
   "outputs": [
    {
     "data": {
      "text/plain": [
       "{0: 9, 1: 8, 2: 7, 3: 6, 4: 5, 5: 4, 6: 3, 7: 2, 8: 1, 9: 0}"
      ]
     },
     "execution_count": 66,
     "metadata": {},
     "output_type": "execute_result"
    }
   ],
   "source": [
    "mapping"
   ]
  },
  {
   "cell_type": "code",
   "execution_count": 67,
   "id": "b841976e-195f-4ef7-94c0-a63fddd8320a",
   "metadata": {},
   "outputs": [
    {
     "name": "stdout",
     "output_type": "stream",
     "text": [
      "On branch master\n",
      "Your branch is up to date with 'origin/master'.\n",
      "\n",
      "Changes not staged for commit:\n",
      "  (use \"git add <file>...\" to update what will be committed)\n",
      "  (use \"git restore <file>...\" to discard changes in working directory)\n",
      "\tmodified:   Untitled.ipynb\n",
      "\n",
      "Untracked files:\n",
      "  (use \"git add <file>...\" to include in what will be committed)\n",
      "\tdataStructures.ipynb\n",
      "\n",
      "no changes added to commit (use \"git add\" and/or \"git commit -a\")\n"
     ]
    }
   ],
   "source": [
    "!git status"
   ]
  },
  {
   "cell_type": "code",
   "execution_count": 68,
   "id": "c6c154b4-54f3-4f1a-b149-38ab96417488",
   "metadata": {},
   "outputs": [
    {
     "name": "stderr",
     "output_type": "stream",
     "text": [
      "warning: in the working copy of 'Untitled.ipynb', LF will be replaced by CRLF the next time Git touches it\n",
      "warning: in the working copy of 'dataStructures.ipynb', LF will be replaced by CRLF the next time Git touches it\n"
     ]
    }
   ],
   "source": [
    "!git add ."
   ]
  },
  {
   "cell_type": "code",
   "execution_count": 69,
   "id": "141b1157-76dd-4172-84fb-baef8381c5a8",
   "metadata": {},
   "outputs": [
    {
     "name": "stderr",
     "output_type": "stream",
     "text": [
      "Everything up-to-date\n"
     ]
    }
   ],
   "source": [
    "!git push "
   ]
  },
  {
   "cell_type": "code",
   "execution_count": 70,
   "id": "c7079c86-a40c-4425-b466-63963f56588d",
   "metadata": {},
   "outputs": [],
   "source": [
    "def function(x,y):\n",
    "    return(x*y)"
   ]
  },
  {
   "cell_type": "code",
   "execution_count": 71,
   "id": "e00ab136-6516-42b8-b3d0-8ada77f03e9c",
   "metadata": {},
   "outputs": [
    {
     "data": {
      "text/plain": [
       "6"
      ]
     },
     "execution_count": 71,
     "metadata": {},
     "output_type": "execute_result"
    }
   ],
   "source": [
    "function(2,3)"
   ]
  },
  {
   "cell_type": "code",
   "execution_count": 78,
   "id": "43a2181f-76df-463a-b31f-78eb361c8f5b",
   "metadata": {},
   "outputs": [],
   "source": [
    "def function(x):\n",
    "    if x % 2 == 0:\n",
    "        return 'even'\n",
    "    else:\n",
    "        return 'odd'\n"
   ]
  },
  {
   "cell_type": "code",
   "execution_count": 79,
   "id": "042b237b-7001-46f8-b9b5-65b2baf43411",
   "metadata": {},
   "outputs": [
    {
     "data": {
      "text/plain": [
       "'odd'"
      ]
     },
     "execution_count": 79,
     "metadata": {},
     "output_type": "execute_result"
    }
   ],
   "source": [
    "function(9)"
   ]
  },
  {
   "cell_type": "code",
   "execution_count": 80,
   "id": "66ced6e8-cea1-4e90-b60b-0e907dfd17f2",
   "metadata": {},
   "outputs": [
    {
     "name": "stderr",
     "output_type": "stream",
     "text": [
      "warning: in the working copy of 'Untitled.ipynb', LF will be replaced by CRLF the next time Git touches it\n"
     ]
    }
   ],
   "source": [
    "!git add ."
   ]
  },
  {
   "cell_type": "code",
   "execution_count": 82,
   "id": "ee6b6f20-d087-43c8-83ee-78209aabeb62",
   "metadata": {},
   "outputs": [
    {
     "name": "stdout",
     "output_type": "stream",
     "text": [
      "[master efcd90b] python essecials\n",
      " 2 files changed, 780 insertions(+), 1 deletion(-)\n",
      " create mode 100644 dataStructures.ipynb\n"
     ]
    }
   ],
   "source": [
    "!git commit -a -m \"python essecials\""
   ]
  },
  {
   "cell_type": "code",
   "execution_count": 83,
   "id": "e6c233f5-5d2f-484b-9d25-955ff0f8c159",
   "metadata": {},
   "outputs": [
    {
     "name": "stderr",
     "output_type": "stream",
     "text": [
      "To https://github.com/kasasa22/DataAnalysis.git\n",
      "   8f5c7ec..efcd90b  master -> master\n"
     ]
    }
   ],
   "source": [
    "!git push"
   ]
  },
  {
   "cell_type": "code",
   "execution_count": 84,
   "id": "ab8719cb-4f43-4857-b6ac-8f463bdf24f5",
   "metadata": {},
   "outputs": [
    {
     "name": "stdout",
     "output_type": "stream",
     "text": [
      "On branch master\n",
      "Your branch is up to date with 'origin/master'.\n",
      "\n",
      "Changes not staged for commit:\n",
      "  (use \"git add <file>...\" to update what will be committed)\n",
      "  (use \"git restore <file>...\" to discard changes in working directory)\n",
      "\tmodified:   Untitled.ipynb\n",
      "\n",
      "no changes added to commit (use \"git add\" and/or \"git commit -a\")\n"
     ]
    }
   ],
   "source": [
    "!git status"
   ]
  },
  {
   "cell_type": "code",
   "execution_count": 1,
   "id": "83ea37bd-c4f6-41d5-94f5-17746b01b79a",
   "metadata": {},
   "outputs": [
    {
     "data": {
      "text/plain": [
       "45"
      ]
     },
     "execution_count": 1,
     "metadata": {},
     "output_type": "execute_result"
    }
   ],
   "source": [
    "x = 45\n",
    "x"
   ]
  },
  {
   "cell_type": "code",
   "execution_count": 1,
   "id": "7d1e4c76",
   "metadata": {},
   "outputs": [],
   "source": [
    "import numpy as np"
   ]
  },
  {
   "cell_type": "code",
   "execution_count": 5,
   "id": "08eff16e-8792-4a92-af87-815728b85551",
   "metadata": {},
   "outputs": [
    {
     "data": {
      "text/plain": [
       "array([      0,       1,       2, ..., 9999997, 9999998, 9999999])"
      ]
     },
     "execution_count": 5,
     "metadata": {},
     "output_type": "execute_result"
    }
   ],
   "source": [
    "arr=np.arange(100_000_00)\n",
    "arr"
   ]
  },
  {
   "cell_type": "code",
   "execution_count": 7,
   "id": "cbac9322-c823-4038-90b8-179b4a6f0b3e",
   "metadata": {},
   "outputs": [
    {
     "data": {
      "text/plain": [
       "[[1, 2, 3], [3, 4, 5], [6, 7, 8]]"
      ]
     },
     "execution_count": 7,
     "metadata": {},
     "output_type": "execute_result"
    }
   ],
   "source": [
    "ls=[[1,2,3],[3,4,5],[6,7,8]]\n",
    "ls"
   ]
  },
  {
   "cell_type": "code",
   "execution_count": 9,
   "id": "c6f5b69c-2dda-45ff-ae29-3394aee79879",
   "metadata": {},
   "outputs": [
    {
     "data": {
      "text/plain": [
       "array([[1, 2, 3],\n",
       "       [3, 4, 5],\n",
       "       [6, 7, 8]])"
      ]
     },
     "execution_count": 9,
     "metadata": {},
     "output_type": "execute_result"
    }
   ],
   "source": [
    "np.array(ls)"
   ]
  },
  {
   "cell_type": "code",
   "execution_count": 10,
   "id": "8cbb2d2b-0ca7-4917-90dc-731c6ecf0aa6",
   "metadata": {},
   "outputs": [],
   "source": [
    "data=np.array(ls)"
   ]
  },
  {
   "cell_type": "code",
   "execution_count": 11,
   "id": "43c4781d-b40f-4212-bad3-8d340ecc7303",
   "metadata": {},
   "outputs": [
    {
     "data": {
      "text/plain": [
       "array([[1, 2, 3],\n",
       "       [3, 4, 5],\n",
       "       [6, 7, 8]])"
      ]
     },
     "execution_count": 11,
     "metadata": {},
     "output_type": "execute_result"
    }
   ],
   "source": [
    "data"
   ]
  },
  {
   "cell_type": "code",
   "execution_count": 12,
   "id": "981bad2e-4972-467d-a473-cc24424ed948",
   "metadata": {},
   "outputs": [
    {
     "data": {
      "text/plain": [
       "(3, 3)"
      ]
     },
     "execution_count": 12,
     "metadata": {},
     "output_type": "execute_result"
    }
   ],
   "source": [
    "data.shape"
   ]
  },
  {
   "cell_type": "code",
   "execution_count": 14,
   "id": "dc20ef48-2f96-47a2-8d47-db749cb21a10",
   "metadata": {},
   "outputs": [
    {
     "data": {
      "text/plain": [
       "array([3, 5, 7])"
      ]
     },
     "execution_count": 14,
     "metadata": {},
     "output_type": "execute_result"
    }
   ],
   "source": [
    "a = np.array([1, 2, 3])\n",
    "b=np.array([2,3,4])\n",
    "c=a+b\n",
    "c"
   ]
  },
  {
   "cell_type": "code",
   "execution_count": 15,
   "id": "ff33523a-f745-413e-b69f-e9159f5d4f50",
   "metadata": {},
   "outputs": [
    {
     "data": {
      "text/plain": [
       "array([ 3, 10, 21])"
      ]
     },
     "execution_count": 15,
     "metadata": {},
     "output_type": "execute_result"
    }
   ],
   "source": [
    "d=a*c\n",
    "d"
   ]
  },
  {
   "cell_type": "code",
   "execution_count": 16,
   "id": "d757d93b-e495-49c5-b91a-caeb51da0ec9",
   "metadata": {},
   "outputs": [
    {
     "data": {
      "text/plain": [
       "(3,)"
      ]
     },
     "execution_count": 16,
     "metadata": {},
     "output_type": "execute_result"
    }
   ],
   "source": [
    "d.shape"
   ]
  },
  {
   "cell_type": "code",
   "execution_count": 19,
   "id": "345a52f9-6303-4307-8c43-346ca96ad97a",
   "metadata": {},
   "outputs": [
    {
     "data": {
      "text/plain": [
       "array([0, 1, 2, 3, 4, 5, 6, 7, 8, 9])"
      ]
     },
     "execution_count": 19,
     "metadata": {},
     "output_type": "execute_result"
    }
   ],
   "source": [
    "np.arange(10)"
   ]
  },
  {
   "cell_type": "code",
   "execution_count": 21,
   "id": "68cfd837-a2b8-477a-ad5d-a1fb3b670a25",
   "metadata": {},
   "outputs": [
    {
     "data": {
      "text/plain": [
       "array([1., 2., 3.])"
      ]
     },
     "execution_count": 21,
     "metadata": {},
     "output_type": "execute_result"
    }
   ],
   "source": [
    "array=np.array([1,2,3],dtype=np.float64)\n",
    "array"
   ]
  },
  {
   "cell_type": "code",
   "execution_count": 25,
   "id": "2921ea7c-8bfd-44d4-ac52-8e418ace0f8b",
   "metadata": {},
   "outputs": [
    {
     "data": {
      "text/plain": [
       "array([1, 2, 3], dtype=int64)"
      ]
     },
     "execution_count": 25,
     "metadata": {},
     "output_type": "execute_result"
    }
   ],
   "source": [
    "array=np.array([1,2,3],dtype=np.int64)\n",
    "array"
   ]
  },
  {
   "cell_type": "code",
   "execution_count": 29,
   "id": "df024197-017f-4546-afdc-327452b1bd84",
   "metadata": {},
   "outputs": [
    {
     "data": {
      "text/plain": [
       "array([1, 2, 3], dtype=int64)"
      ]
     },
     "execution_count": 29,
     "metadata": {},
     "output_type": "execute_result"
    }
   ],
   "source": [
    "array.astype(np.int64)\n"
   ]
  },
  {
   "cell_type": "code",
   "execution_count": 30,
   "id": "c0ebe79b-b126-4735-9102-257dcfcef4bc",
   "metadata": {},
   "outputs": [
    {
     "data": {
      "text/plain": [
       "array([1., 2., 3.])"
      ]
     },
     "execution_count": 30,
     "metadata": {},
     "output_type": "execute_result"
    }
   ],
   "source": [
    "array.astype(np.float64)\n"
   ]
  },
  {
   "cell_type": "code",
   "execution_count": 35,
   "id": "caf52cf6-7add-44a5-85ec-9876a32e72a6",
   "metadata": {},
   "outputs": [
    {
     "data": {
      "text/plain": [
       "array([[[1, 2, 3],\n",
       "        [3, 4, 5]],\n",
       "\n",
       "       [[2, 3, 4],\n",
       "        [5, 6, 7]]])"
      ]
     },
     "execution_count": 35,
     "metadata": {},
     "output_type": "execute_result"
    }
   ],
   "source": [
    "arr3= np.array([[[1,2,3],[3,4,5]],[[2,3,4],[5,6,7]]])\n",
    "arr3"
   ]
  },
  {
   "cell_type": "raw",
   "id": "d3b47a32-1ba9-448f-a373-03686b70427c",
   "metadata": {},
   "source": [
    "a=arr3[0,0,0]"
   ]
  },
  {
   "cell_type": "code",
   "execution_count": 40,
   "id": "c6580e71-ea8e-4459-8d35-178321fe8c4c",
   "metadata": {},
   "outputs": [
    {
     "data": {
      "text/plain": [
       "array([1, 2, 3])"
      ]
     },
     "execution_count": 40,
     "metadata": {},
     "output_type": "execute_result"
    }
   ],
   "source": [
    "a"
   ]
  },
  {
   "cell_type": "code",
   "execution_count": 41,
   "id": "8c4ceb6f-c8c2-4cfc-8330-7d3ac9cab665",
   "metadata": {},
   "outputs": [],
   "source": [
    "arr = np.array([10, 20, 30, 40, 50])\n"
   ]
  },
  {
   "cell_type": "code",
   "execution_count": 42,
   "id": "8ddc628b-c7a9-44bf-89ff-bce5d1351108",
   "metadata": {},
   "outputs": [],
   "source": [
    "bool_arr = arr > 25"
   ]
  },
  {
   "cell_type": "code",
   "execution_count": 43,
   "id": "ca82b23a-40c4-4ef6-8d0b-d24665bd838f",
   "metadata": {},
   "outputs": [],
   "source": [
    "filtered_arr = arr[bool_arr]"
   ]
  },
  {
   "cell_type": "code",
   "execution_count": 44,
   "id": "d8ef918a-e1bf-42f3-a75f-1bb323520101",
   "metadata": {},
   "outputs": [
    {
     "data": {
      "text/plain": [
       "array([30, 40, 50])"
      ]
     },
     "execution_count": 44,
     "metadata": {},
     "output_type": "execute_result"
    }
   ],
   "source": [
    "filtered_arr"
   ]
  },
  {
   "cell_type": "code",
   "execution_count": null,
   "id": "adc11bac-0c08-410c-902a-79ac5d4cb211",
   "metadata": {},
   "outputs": [],
   "source": [
    "\n",
    "\n"
   ]
  },
  {
   "cell_type": "code",
   "execution_count": null,
   "id": "160f56e6-efcb-4131-82f5-8636f0113468",
   "metadata": {},
   "outputs": [],
   "source": []
  }
 ],
 "metadata": {
  "kernelspec": {
   "display_name": "Python 3 (ipykernel)",
   "language": "python",
   "name": "python3"
  },
  "language_info": {
   "codemirror_mode": {
    "name": "ipython",
    "version": 3
   },
   "file_extension": ".py",
   "mimetype": "text/x-python",
   "name": "python",
   "nbconvert_exporter": "python",
   "pygments_lexer": "ipython3",
   "version": "3.11.4"
  }
 },
 "nbformat": 4,
 "nbformat_minor": 5
}
