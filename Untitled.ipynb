{
 "cells": [
  {
   "cell_type": "code",
   "execution_count": 3,
   "id": "35f93905-9169-4918-85c3-6f8486d29ba4",
   "metadata": {},
   "outputs": [
    {
     "name": "stdout",
     "output_type": "stream",
     "text": [
      "On branch master\n",
      "Your branch is up to date with 'origin/master'.\n",
      "\n",
      "Untracked files:\n",
      "  (use \"git add <file>...\" to include in what will be committed)\n",
      "\t.ipynb_checkpoints/\n",
      "\tUntitled.ipynb\n",
      "\tdataVenv/trial.py\n",
      "\n",
      "nothing added to commit but untracked files present (use \"git add\" to track)\n"
     ]
    }
   ],
   "source": [
    "!git status\n"
   ]
  },
  {
   "cell_type": "markdown",
   "id": "1598bd56",
   "metadata": {},
   "source": []
  },
  {
   "cell_type": "code",
   "execution_count": 2,
   "id": "c5a93507-64c6-4630-84f1-0ba7d9276413",
   "metadata": {},
   "outputs": [
    {
     "name": "stdout",
     "output_type": "stream",
     "text": [
      "On branch master\n",
      "Your branch is up to date with 'origin/master'.\n",
      "\n",
      "Untracked files:\n",
      "  (use \"git add <file>...\" to include in what will be committed)\n",
      "\t.ipynb_checkpoints/\n",
      "\tUntitled.ipynb\n",
      "\tdataVenv/trial.py\n",
      "\n",
      "nothing added to commit but untracked files present (use \"git add\" to track)\n"
     ]
    }
   ],
   "source": [
    "!git status\n"
   ]
  },
  {
   "cell_type": "code",
   "execution_count": 4,
   "id": "c83f976b-564a-4d60-9c7f-ebba89f878c9",
   "metadata": {},
   "outputs": [
    {
     "name": "stderr",
     "output_type": "stream",
     "text": [
      "warning: in the working copy of '.ipynb_checkpoints/Untitled-checkpoint.ipynb', LF will be replaced by CRLF the next time Git touches it\n",
      "warning: in the working copy of 'Untitled.ipynb', LF will be replaced by CRLF the next time Git touches it\n"
     ]
    }
   ],
   "source": [
    "!git add .\n"
   ]
  },
  {
   "cell_type": "code",
   "execution_count": 5,
   "id": "c3ec3894-fd6d-4ed2-82a1-4072ec9fdc54",
   "metadata": {},
   "outputs": [
    {
     "name": "stdout",
     "output_type": "stream",
     "text": [
      "[master 8f5c7ec] this\n",
      " 3 files changed, 96 insertions(+)\n",
      " create mode 100644 .ipynb_checkpoints/Untitled-checkpoint.ipynb\n",
      " create mode 100644 Untitled.ipynb\n",
      " create mode 100644 dataVenv/trial.py\n"
     ]
    }
   ],
   "source": [
    "!git commit -m \"this\""
   ]
  },
  {
   "cell_type": "code",
   "execution_count": 6,
   "id": "6b6a44ea-4339-45d1-b3c9-50d4d3e3d5ee",
   "metadata": {},
   "outputs": [
    {
     "name": "stderr",
     "output_type": "stream",
     "text": [
      "To https://github.com/kasasa22/DataAnalysis.git\n",
      "   2c709f9..8f5c7ec  master -> master\n"
     ]
    }
   ],
   "source": [
    "!git push\n"
   ]
  },
  {
   "cell_type": "code",
   "execution_count": 1,
   "id": "c55dadc5-f373-488e-abb0-67b171a6ca5a",
   "metadata": {},
   "outputs": [],
   "source": [
    "import pandas as pd"
   ]
  },
  {
   "cell_type": "code",
   "execution_count": 2,
   "id": "0bfd5821-a0ea-47a7-b567-ee6020582ac5",
   "metadata": {},
   "outputs": [
    {
     "data": {
      "text/plain": [
       "(4, 5, 6)"
      ]
     },
     "execution_count": 2,
     "metadata": {},
     "output_type": "execute_result"
    }
   ],
   "source": [
    "tup = (4,5,6)\n",
    "tup\n"
   ]
  },
  {
   "cell_type": "code",
   "execution_count": 7,
   "id": "afdde36b-4dbf-4809-82b5-631735695f70",
   "metadata": {},
   "outputs": [
    {
     "data": {
      "text/plain": [
       "(4, 0, 2)"
      ]
     },
     "execution_count": 7,
     "metadata": {},
     "output_type": "execute_result"
    }
   ],
   "source": [
    "#DATA STRUCTURES\n",
    "#Tuples\n",
    "tuple([4,0,2])"
   ]
  },
  {
   "cell_type": "code",
   "execution_count": 20,
   "id": "9bc9e351-55df-4e80-be01-6f99a00ec080",
   "metadata": {},
   "outputs": [
    {
     "data": {
      "text/plain": [
       "4"
      ]
     },
     "execution_count": 20,
     "metadata": {},
     "output_type": "execute_result"
    }
   ],
   "source": [
    "#nested tuple\n",
    "tup=((4,3,4),(2,3,4))\n",
    "tup[0][2]\n",
    "\n"
   ]
  },
  {
   "cell_type": "code",
   "execution_count": 24,
   "id": "8cbd9dff-90c0-4788-8b3d-69de4b2a063b",
   "metadata": {},
   "outputs": [
    {
     "data": {
      "text/plain": [
       "False"
      ]
     },
     "execution_count": 24,
     "metadata": {},
     "output_type": "execute_result"
    }
   ],
   "source": [
    "tup= tuple(['kasasa',[1,2],False,'Trevor'])\n",
    "tup[2]"
   ]
  },
  {
   "cell_type": "code",
   "execution_count": 25,
   "id": "9e25a9a6-e3c6-43fc-aa99-1c9a4269c71b",
   "metadata": {},
   "outputs": [
    {
     "data": {
      "text/plain": [
       "1"
      ]
     },
     "execution_count": 25,
     "metadata": {},
     "output_type": "execute_result"
    }
   ],
   "source": [
    "tup[1][0]"
   ]
  },
  {
   "cell_type": "code",
   "execution_count": 26,
   "id": "56319087-08a5-4d37-87f9-927ed0dfa726",
   "metadata": {},
   "outputs": [
    {
     "ename": "TypeError",
     "evalue": "'tuple' object does not support item assignment",
     "output_type": "error",
     "traceback": [
      "\u001b[1;31m---------------------------------------------------------------------------\u001b[0m",
      "\u001b[1;31mTypeError\u001b[0m                                 Traceback (most recent call last)",
      "Cell \u001b[1;32mIn[26], line 1\u001b[0m\n\u001b[1;32m----> 1\u001b[0m \u001b[43mtup\u001b[49m\u001b[43m[\u001b[49m\u001b[38;5;241;43m2\u001b[39;49m\u001b[43m]\u001b[49m \u001b[38;5;241m=\u001b[39m\u001b[38;5;28;01mTrue\u001b[39;00m\n",
      "\u001b[1;31mTypeError\u001b[0m: 'tuple' object does not support item assignment"
     ]
    }
   ],
   "source": [
    "tup[2] =True"
   ]
  },
  {
   "cell_type": "code",
   "execution_count": 27,
   "id": "94adbbaa-6a42-4bdb-a29f-2a74de83e29f",
   "metadata": {},
   "outputs": [],
   "source": [
    "tup[1][1]=3"
   ]
  },
  {
   "cell_type": "code",
   "execution_count": 28,
   "id": "b3a7e07d-df0d-45dd-839e-6b745bb0add5",
   "metadata": {},
   "outputs": [
    {
     "data": {
      "text/plain": [
       "('kasasa', [1, 3], False, 'Trevor')"
      ]
     },
     "execution_count": 28,
     "metadata": {},
     "output_type": "execute_result"
    }
   ],
   "source": [
    "tup"
   ]
  },
  {
   "cell_type": "code",
   "execution_count": 29,
   "id": "f297df65-3f86-4521-8df4-a552cd38e1cf",
   "metadata": {},
   "outputs": [
    {
     "data": {
      "text/plain": [
       "['This', 'is', 'Africa']"
      ]
     },
     "execution_count": 29,
     "metadata": {},
     "output_type": "execute_result"
    }
   ],
   "source": [
    "#LIST\n",
    "ls =[\"This\",\"is\",\"Africa\"]\n",
    "ls"
   ]
  },
  {
   "cell_type": "code",
   "execution_count": 30,
   "id": "07106e09-23be-4ad2-862c-cebf59cca7ce",
   "metadata": {},
   "outputs": [],
   "source": [
    "ls[2]=\"USA\""
   ]
  },
  {
   "cell_type": "code",
   "execution_count": 32,
   "id": "48402d9d-ef66-4e15-98a2-b3a36990703b",
   "metadata": {},
   "outputs": [
    {
     "data": {
      "text/plain": [
       "['This', 'is', 'USA']"
      ]
     },
     "execution_count": 32,
     "metadata": {},
     "output_type": "execute_result"
    }
   ],
   "source": [
    "ls"
   ]
  },
  {
   "cell_type": "code",
   "execution_count": 34,
   "id": "ec05d6ee-0f15-46be-8600-3845bdb0b30d",
   "metadata": {},
   "outputs": [
    {
     "data": {
      "text/plain": [
       "2"
      ]
     },
     "execution_count": 34,
     "metadata": {},
     "output_type": "execute_result"
    }
   ],
   "source": [
    "ls.index(\"USA\")"
   ]
  },
  {
   "cell_type": "code",
   "execution_count": 37,
   "id": "01f85c5c-a089-486c-8778-49c5ec18a220",
   "metadata": {},
   "outputs": [
    {
     "data": {
      "text/plain": [
       "['This', 'is', 'USA']"
      ]
     },
     "execution_count": 37,
     "metadata": {},
     "output_type": "execute_result"
    }
   ],
   "source": [
    "ls1=list(ls)\n",
    "ls1"
   ]
  },
  {
   "cell_type": "code",
   "execution_count": 40,
   "id": "3aec5add-b5ac-4459-81bb-072ee9f345b1",
   "metadata": {},
   "outputs": [
    {
     "data": {
      "text/plain": [
       "{1: 'kasasa', '2': 'sarah', '3': 'trevor'}"
      ]
     },
     "execution_count": 40,
     "metadata": {},
     "output_type": "execute_result"
    }
   ],
   "source": [
    "d1={1:\"kasasa\",\"2\":\"sarah\",\"3\":\"trevor\"}\n",
    "d1"
   ]
  },
  {
   "cell_type": "code",
   "execution_count": 42,
   "id": "6477bec5-cc95-4e57-b54c-00ace30fa976",
   "metadata": {},
   "outputs": [
    {
     "data": {
      "text/plain": [
       "'kasasa'"
      ]
     },
     "execution_count": 42,
     "metadata": {},
     "output_type": "execute_result"
    }
   ],
   "source": [
    "d1[1]"
   ]
  },
  {
   "cell_type": "code",
   "execution_count": 45,
   "id": "81511940-923d-4338-aab3-a1d6a9d57b5a",
   "metadata": {},
   "outputs": [
    {
     "name": "stdout",
     "output_type": "stream",
     "text": [
      "{(1, 2, 3): ['this', 'that', 'those']}\n"
     ]
    }
   ],
   "source": [
    "d2 = {(1, 2, 3): ['this', 'that', 'those']}\n",
    "print(d2)\n"
   ]
  },
  {
   "cell_type": "code",
   "execution_count": 47,
   "id": "d26bab11-053d-44ce-aa8a-6dcffed103ec",
   "metadata": {},
   "outputs": [
    {
     "name": "stdout",
     "output_type": "stream",
     "text": [
      "{True: (1, 2, 3)}\n"
     ]
    }
   ],
   "source": [
    "d2 = {True:(1,2,3) }\n",
    "print(d2)\n"
   ]
  },
  {
   "cell_type": "code",
   "execution_count": 51,
   "id": "770adf7e-a85d-46d2-b731-4c46e6ce8a5c",
   "metadata": {},
   "outputs": [
    {
     "data": {
      "text/plain": [
       "{True: (1, 2, 3)}"
      ]
     },
     "execution_count": 51,
     "metadata": {},
     "output_type": "execute_result"
    }
   ],
   "source": [
    "d2"
   ]
  },
  {
   "cell_type": "code",
   "execution_count": 52,
   "id": "6ea885a9-204f-4f48-81b8-7052f74a9537",
   "metadata": {},
   "outputs": [
    {
     "data": {
      "text/plain": [
       "[1, 2, 3, 'trevor', 'cdd']"
      ]
     },
     "execution_count": 52,
     "metadata": {},
     "output_type": "execute_result"
    }
   ],
   "source": [
    "ls=[1,2,3,'trevor','cdd']\n",
    "ls"
   ]
  },
  {
   "cell_type": "code",
   "execution_count": 53,
   "id": "68d07a2a-2aed-48ce-8ac5-e99e96bf8c5f",
   "metadata": {},
   "outputs": [],
   "source": [
    "s='string'"
   ]
  },
  {
   "cell_type": "code",
   "execution_count": 54,
   "id": "dd67cf25-f704-4083-b302-8f7e6d90cf0b",
   "metadata": {},
   "outputs": [
    {
     "data": {
      "text/plain": [
       "'string'"
      ]
     },
     "execution_count": 54,
     "metadata": {},
     "output_type": "execute_result"
    }
   ],
   "source": [
    "s"
   ]
  },
  {
   "cell_type": "code",
   "execution_count": 55,
   "id": "e318c134-8eff-4657-97f7-849facbb6b8e",
   "metadata": {},
   "outputs": [
    {
     "data": {
      "text/plain": [
       "'s'"
      ]
     },
     "execution_count": 55,
     "metadata": {},
     "output_type": "execute_result"
    }
   ],
   "source": [
    "s[0]"
   ]
  },
  {
   "cell_type": "code",
   "execution_count": 57,
   "id": "696e8cbb-5b01-4abf-b326-5f14e8dacede",
   "metadata": {},
   "outputs": [
    {
     "ename": "TypeError",
     "evalue": "'str' object does not support item assignment",
     "output_type": "error",
     "traceback": [
      "\u001b[1;31m---------------------------------------------------------------------------\u001b[0m",
      "\u001b[1;31mTypeError\u001b[0m                                 Traceback (most recent call last)",
      "Cell \u001b[1;32mIn[57], line 1\u001b[0m\n\u001b[1;32m----> 1\u001b[0m \u001b[43ms\u001b[49m\u001b[43m[\u001b[49m\u001b[38;5;241;43m0\u001b[39;49m\u001b[43m]\u001b[49m\u001b[38;5;241m=\u001b[39m\u001b[38;5;124m'\u001b[39m\u001b[38;5;124mw\u001b[39m\u001b[38;5;124m'\u001b[39m\n",
      "\u001b[1;31mTypeError\u001b[0m: 'str' object does not support item assignment"
     ]
    }
   ],
   "source": [
    "s[0]='w'"
   ]
  },
  {
   "cell_type": "code",
   "execution_count": 60,
   "id": "799329fc-015a-4a40-b9b0-6511d1575616",
   "metadata": {},
   "outputs": [
    {
     "data": {
      "text/plain": [
       "{'a': 1, 'b': 2, 'c': 3}"
      ]
     },
     "execution_count": 60,
     "metadata": {},
     "output_type": "execute_result"
    }
   ],
   "source": [
    "key_list = ['a', 'b', 'c']\n",
    "value_list = [1, 2, 3]\n",
    "mapping={}\n",
    "for key, value in zip(key_list,value_list):\n",
    "    mapping[key] =value\n",
    "mapping"
   ]
  },
  {
   "cell_type": "code",
   "execution_count": 64,
   "id": "a35920d2-3f90-4139-99fa-65e3eb8b3d61",
   "metadata": {},
   "outputs": [
    {
     "data": {
      "text/plain": [
       "<zip at 0x219b59a60c0>"
      ]
     },
     "execution_count": 64,
     "metadata": {},
     "output_type": "execute_result"
    }
   ],
   "source": [
    "tuples=zip(range(10), reversed(range(10)))\n",
    "tuples"
   ]
  },
  {
   "cell_type": "code",
   "execution_count": 65,
   "id": "00cf3ec6-60f9-47e1-a394-fcfc73c5a5ae",
   "metadata": {},
   "outputs": [],
   "source": [
    "mapping = dict(tuples)"
   ]
  },
  {
   "cell_type": "code",
   "execution_count": 66,
   "id": "238a56ad-ee1a-4ca3-811b-e98ddfa7d21f",
   "metadata": {},
   "outputs": [
    {
     "data": {
      "text/plain": [
       "{0: 9, 1: 8, 2: 7, 3: 6, 4: 5, 5: 4, 6: 3, 7: 2, 8: 1, 9: 0}"
      ]
     },
     "execution_count": 66,
     "metadata": {},
     "output_type": "execute_result"
    }
   ],
   "source": [
    "mapping"
   ]
  },
  {
   "cell_type": "code",
   "execution_count": 67,
   "id": "b841976e-195f-4ef7-94c0-a63fddd8320a",
   "metadata": {},
   "outputs": [
    {
     "name": "stdout",
     "output_type": "stream",
     "text": [
      "On branch master\n",
      "Your branch is up to date with 'origin/master'.\n",
      "\n",
      "Changes not staged for commit:\n",
      "  (use \"git add <file>...\" to update what will be committed)\n",
      "  (use \"git restore <file>...\" to discard changes in working directory)\n",
      "\tmodified:   Untitled.ipynb\n",
      "\n",
      "Untracked files:\n",
      "  (use \"git add <file>...\" to include in what will be committed)\n",
      "\tdataStructures.ipynb\n",
      "\n",
      "no changes added to commit (use \"git add\" and/or \"git commit -a\")\n"
     ]
    }
   ],
   "source": [
    "!git status"
   ]
  },
  {
   "cell_type": "code",
   "execution_count": 68,
   "id": "c6c154b4-54f3-4f1a-b149-38ab96417488",
   "metadata": {},
   "outputs": [
    {
     "name": "stderr",
     "output_type": "stream",
     "text": [
      "warning: in the working copy of 'Untitled.ipynb', LF will be replaced by CRLF the next time Git touches it\n",
      "warning: in the working copy of 'dataStructures.ipynb', LF will be replaced by CRLF the next time Git touches it\n"
     ]
    }
   ],
   "source": [
    "!git add ."
   ]
  },
  {
   "cell_type": "code",
   "execution_count": 69,
   "id": "141b1157-76dd-4172-84fb-baef8381c5a8",
   "metadata": {},
   "outputs": [
    {
     "name": "stderr",
     "output_type": "stream",
     "text": [
      "Everything up-to-date\n"
     ]
    }
   ],
   "source": [
    "!git push "
   ]
  },
  {
   "cell_type": "code",
   "execution_count": 70,
   "id": "c7079c86-a40c-4425-b466-63963f56588d",
   "metadata": {},
   "outputs": [],
   "source": [
    "def function(x,y):\n",
    "    return(x*y)"
   ]
  },
  {
   "cell_type": "code",
   "execution_count": 71,
   "id": "e00ab136-6516-42b8-b3d0-8ada77f03e9c",
   "metadata": {},
   "outputs": [
    {
     "data": {
      "text/plain": [
       "6"
      ]
     },
     "execution_count": 71,
     "metadata": {},
     "output_type": "execute_result"
    }
   ],
   "source": [
    "function(2,3)"
   ]
  },
  {
   "cell_type": "code",
   "execution_count": 78,
   "id": "43a2181f-76df-463a-b31f-78eb361c8f5b",
   "metadata": {},
   "outputs": [],
   "source": [
    "def function(x):\n",
    "    if x % 2 == 0:\n",
    "        return 'even'\n",
    "    else:\n",
    "        return 'odd'\n"
   ]
  },
  {
   "cell_type": "code",
   "execution_count": 79,
   "id": "042b237b-7001-46f8-b9b5-65b2baf43411",
   "metadata": {},
   "outputs": [
    {
     "data": {
      "text/plain": [
       "'odd'"
      ]
     },
     "execution_count": 79,
     "metadata": {},
     "output_type": "execute_result"
    }
   ],
   "source": [
    "function(9)"
   ]
  },
  {
   "cell_type": "code",
   "execution_count": null,
   "id": "66ced6e8-cea1-4e90-b60b-0e907dfd17f2",
   "metadata": {},
   "outputs": [],
   "source": []
  }
 ],
 "metadata": {
  "kernelspec": {
   "display_name": "Python 3 (ipykernel)",
   "language": "python",
   "name": "python3"
  },
  "language_info": {
   "codemirror_mode": {
    "name": "ipython",
    "version": 3
   },
   "file_extension": ".py",
   "mimetype": "text/x-python",
   "name": "python",
   "nbconvert_exporter": "python",
   "pygments_lexer": "ipython3",
   "version": "3.11.4"
  }
 },
 "nbformat": 4,
 "nbformat_minor": 5
}
